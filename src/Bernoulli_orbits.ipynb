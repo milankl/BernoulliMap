{
 "cells": [
  {
   "cell_type": "markdown",
   "metadata": {},
   "source": [
    "# Generalised Bernoulli map with various number formats\n",
    "\n",
    "Revisiting BM Boghosian, PV Coveney, and H Wang. *A new pathology in the Simulation of Chaotic Dynamical Systems on Digital Computers*, **Adv. Theory Simul.** 2019, 2, 1900125, DOI: 10.1002/adts.201900125"
   ]
  },
  {
   "cell_type": "markdown",
   "metadata": {},
   "source": [
    "### 0. Load packages"
   ]
  },
  {
   "cell_type": "code",
   "execution_count": 1,
   "metadata": {
    "scrolled": true
   },
   "outputs": [
    {
     "name": "stderr",
     "output_type": "stream",
     "text": [
      "┌ Info: Precompiling PyPlot [d330b81b-6aea-500a-939a-2ce795aea3ee]\n",
      "└ @ Base loading.jl:1278\n",
      "┌ Info: Precompiling JLD2 [033835bb-8acc-5ee8-8aae-3f567f8a3819]\n",
      "└ @ Base loading.jl:1278\n",
      "┌ Info: Precompiling StochasticRounding [3843c9a1-1f18-49ff-9d99-1b4c8a8e97ed]\n",
      "└ @ Base loading.jl:1278\n",
      "┌ Warning: LogFixPoint16 was changed to 5 integer and 10 fraction bits.\n",
      "└ @ LogFixPoint16s /Users/milan/.julia/packages/LogFixPoint16s/TGYbV/src/change_format.jl:25\n"
     ]
    }
   ],
   "source": [
    "using PyPlot, FileIO, JLD2, Printf\n",
    "using StochasticRounding, SoftPosit, LogFixPoint16s\n",
    "using StatsBase, LinearAlgebra, Statistics\n",
    "LogFixPoint16s.set_nfrac(10)   # use the 16-bit logfix format similar to Float16"
   ]
  },
  {
   "cell_type": "markdown",
   "metadata": {},
   "source": [
    "### 1. Functions\n",
    "Define the generalised Bernoulli map\n",
    "\n",
    "$\\quad x_{j+1} = f_\\beta(x_j) = \\beta x_j \\mod 1$\n",
    "\n",
    "with $\\beta > 1$."
   ]
  },
  {
   "cell_type": "code",
   "execution_count": 2,
   "metadata": {},
   "outputs": [
    {
     "data": {
      "text/plain": [
       "bernoulli_orbit (generic function with 1 method)"
      ]
     },
     "execution_count": 2,
     "metadata": {},
     "output_type": "execute_result"
    }
   ],
   "source": [
    "function bernoulli_orbit( x::T,            # initial condition\n",
    "                          β::T,            # Bernoulli parameter\n",
    "                          N0::Int,         # spin up iterations\n",
    "                          N::Int) where T  # max period length\n",
    "    oone = one(T)                  # 1 in format T\n",
    "    \n",
    "    # SPIN UP\n",
    "    for i in 1:N0\n",
    "        x = β*x\n",
    "        x = x >= oone ? x-oone : x # x mod 1\n",
    "    end\n",
    "    \n",
    "    # CHECK FOR PERIOD LENGTH\n",
    "    x0 = x                         # new initial condition\n",
    "    n = 0                          # orbit length (0 = not found yet)\n",
    "    j = 0                          # iteration counter\n",
    "    \n",
    "    while n == 0 && j < N\n",
    "        j += 1\n",
    "        x = β*x\n",
    "        x = x >= oone ? x-oone : x # x mod 1\n",
    "        n = x0 == x ? j : 0        # check for periodicity\n",
    "    end\n",
    "\n",
    "    return n,x                     # return orbit length and last x that's on the orbit\n",
    "end"
   ]
  },
  {
   "cell_type": "code",
   "execution_count": 3,
   "metadata": {
    "scrolled": true
   },
   "outputs": [
    {
     "data": {
      "text/plain": [
       "bernoulli_map (generic function with 1 method)"
      ]
     },
     "execution_count": 3,
     "metadata": {},
     "output_type": "execute_result"
    }
   ],
   "source": [
    "function bernoulli_map(x::T,β::T,N::Int) where T\n",
    "    oone = one(T)                  # 1 in format T\n",
    "    xout = Array{T,1}(undef,N+1)   # preallocate\n",
    "    xout[1] = x                    # store initial condition\n",
    "    for i in 2:N+1\n",
    "        x = β*x\n",
    "        x = x >= oone ? x-oone : x # x mod 1\n",
    "        xout[i] = x                # store iteration\n",
    "    end\n",
    "    return xout\n",
    "end"
   ]
  },
  {
   "cell_type": "code",
   "execution_count": 4,
   "metadata": {},
   "outputs": [
    {
     "data": {
      "text/plain": [
       "h (generic function with 2 methods)"
      ]
     },
     "execution_count": 4,
     "metadata": {},
     "output_type": "execute_result"
    }
   ],
   "source": [
    "# Hofbauer invariant measure h with C=1\n",
    "heaviside(x::AbstractFloat) = ifelse(x < 0, zero(x), ifelse(x > 0, one(x), oftype(x,0.5)))\n",
    "h(x,β,N=100) = heaviside(1-x) + [β^-j for j in 1:N]'*heaviside.(bernoulli_map(1e0,β,N)[2:end] .- x)"
   ]
  },
  {
   "cell_type": "code",
   "execution_count": 11,
   "metadata": {},
   "outputs": [
    {
     "data": {
      "text/plain": [
       "find_orbits (generic function with 1 method)"
      ]
     },
     "execution_count": 11,
     "metadata": {},
     "output_type": "execute_result"
    }
   ],
   "source": [
    "using RandomNumbers\n",
    "\n",
    "function find_orbits(   ::Type{T},                  # Number format\n",
    "                        β::Real;                    # Bernoulli parameter\n",
    "                        n::Int=100000,              # n initial conditions\n",
    "                        N0::Int=50000,              # spinup\n",
    "                        Nmax::Int=1000000) where T  # maximum orbit length\n",
    "\n",
    "    println(\"β = $β, $T\")\n",
    "    \n",
    "    O = fill(0,n)           # array of orbit period lengths for each IC\n",
    "    X = Array{T}(undef,n)   # for each orbit one x on the orbit\n",
    "\n",
    "    for i in 1:n            # for n ICs calculate orbit lengths & x\n",
    "#         subnormal = reinterpret(Float32,rand(1:Int(reinterpret(UInt32,floatmin(Float32)))) % UInt32)\n",
    "#         f = reinterpret(Float32,rand(1:Int(reinterpret(UInt32,one(Float32)))) % UInt32)\n",
    "#         f = rand(Float32)/10+0.9\n",
    "#         f = Float32(reinterpret(Float64,Base.exponent_half(Float64) | Base.significand_mask(Float64) & rand(UInt64)))\n",
    "#         f = T(rand(RNG,Float64))\n",
    "        f = randfloat(T)\n",
    "        O[i],X[i] = bernoulli_orbit(f,T(β),N0,Nmax)\n",
    "#         O[i],X[i] = bernoulli_orbit(rand(RNG,T),T(β),N0,Nmax)\n",
    "    end\n",
    "\n",
    "    # find unique orbit lengths via Set\n",
    "    orbit_lengths = sort([o for o in Set(O)])\n",
    "    \n",
    "    # preallocate\n",
    "    orbit_x0 = fill(zero(T),length(orbit_lengths))\n",
    "    orbit_p = fill(0.0,length(orbit_lengths))\n",
    "\n",
    "    iol = 1\n",
    "    for ol in orbit_lengths\n",
    "\n",
    "        # all x for orbit length ol, use as initial condition\n",
    "        Xini = X[O .== ol]\n",
    "        p = length(Xini)/n   # size of the basin of attraction\n",
    "        x0s = T[]            # array of min x to identify unique orbits\n",
    "                             # if >1 orbit exists with same length length(x0s)>1\n",
    "\n",
    "        for x in Xini        # per IC calculate all points on that orbit\n",
    "            xorbit = bernoulli_map(x,T(β),ol)\n",
    "            mx = minimum(xorbit)\n",
    "            if ~(mx in x0s)\n",
    "                x0s = vcat(x0s,mx)\n",
    "            end\n",
    "        end\n",
    "        \n",
    "        orbit_x0[iol] = x0s[1]\n",
    "        orbit_p[iol] = p\n",
    "    \n",
    "        # print orbit informtation\n",
    "        s1 = \"Orbit $(@sprintf(\"%2d\",iol)): length = $(@sprintf(\"%6d\",ol)), \"\n",
    "        s2 = \"x₀ = $(@sprintf(\"%16s\",repr(x0s[1]))), \"\n",
    "        s3 = \"p = $(@sprintf(\"%.6f\",p))\"\n",
    "        println(s1*s2*s3)\n",
    "        iol += 1\n",
    "        \n",
    "        # in case there are several orbits of same period length, print their info\n",
    "        if length(x0s) > 1\n",
    "            for x0 in x0s[2:end]\n",
    "                s1 = \"Orbit $(@sprintf(\"%2d\",iol)): length = $(@sprintf(\"%6d\",ol)), \"\n",
    "                s2 = \"x₀ = $(@sprintf(\"%16s\",repr(x0)))\"\n",
    "                println(s1*s2)\n",
    "                iol += 1\n",
    "            end\n",
    "        end\n",
    "    end\n",
    "    \n",
    "    return orbit_lengths,orbit_x0,orbit_p\n",
    "end"
   ]
  },
  {
   "cell_type": "code",
   "execution_count": 6,
   "metadata": {
    "scrolled": false
   },
   "outputs": [
    {
     "name": "stdout",
     "output_type": "stream",
     "text": [
      "β = 3//2, Float32\n",
      "Orbit  1: length =      1, x₀ =            0.0f0, p = 0.000001\n",
      "Orbit  2: length =      4, x₀ =     0.24615383f0, p = 0.000002\n",
      "Orbit  3: length =      5, x₀ =     0.15165877f0, p = 0.000001\n",
      "Orbit  4: length =     19, x₀ =     0.06243241f0, p = 0.009443\n",
      "Orbit  5: length =     39, x₀ =    0.010771394f0, p = 0.000006\n",
      "Orbit  6: length =     69, x₀ =   0.0052359104f0, p = 0.000394\n",
      "Orbit  7: length =     86, x₀ =    0.037434578f0, p = 0.000702\n",
      "Orbit  8: length =    285, x₀ =    0.008414507f0, p = 0.000765\n",
      "Orbit  9: length =    297, x₀ =     5.2928925f-5, p = 0.008612\n",
      "Orbit 10: length =    313, x₀ =      6.747246f-5, p = 0.006192\n",
      "Orbit 11: length =    445, x₀ =   0.0024217367f0, p = 0.001142\n",
      "Orbit 12: length =    494, x₀ =   0.0057212114f0, p = 0.046561\n",
      "Orbit 13: length =    517, x₀ =   0.0037292242f0, p = 0.045127\n",
      "Orbit 14: length =    982, x₀ =    0.002391696f0, p = 0.061636\n",
      "Orbit 15: length =   5228, x₀ =     4.1007996f-5, p = 0.819416\n"
     ]
    }
   ],
   "source": [
    "ol1,ox1,op1 = find_orbits(Float32,3//2,n=1000000);"
   ]
  },
  {
   "cell_type": "code",
   "execution_count": 16,
   "metadata": {},
   "outputs": [
    {
     "name": "stdout",
     "output_type": "stream",
     "text": [
      "β = 5//4, Float32\n",
      "Orbit  1: length =    137, x₀ =   0.0072830915f0, p = 0.004080\n",
      "Orbit  2: length =    219, x₀ =    0.005312443f0, p = 0.000630\n",
      "Orbit  3: length =    228, x₀ =   0.0007648468f0, p = 0.002600\n",
      "Orbit  4: length =   2117, x₀ =  0.00061380863f0, p = 0.018270\n",
      "Orbit  5: length =   3763, x₀ =   0.0009752512f0, p = 0.974420\n",
      "β = 4//3, Float32\n",
      "Orbit  1: length =      1, x₀ =            0.0f0, p = 0.002900\n",
      "Orbit  2: length =     48, x₀ =     0.06936097f0, p = 0.000050\n",
      "Orbit  3: length =     49, x₀ =    0.048506975f0, p = 0.000280\n",
      "Orbit  4: length =    153, x₀ =      0.0189718f0, p = 0.000490\n",
      "Orbit  5: length =    336, x₀ =   0.0012991428f0, p = 0.019260\n",
      "Orbit  6: length =   3304, x₀ =  0.00014281273f0, p = 0.463910\n",
      "Orbit  7: length =   4790, x₀ =   0.0004069805f0, p = 0.513110\n",
      "β = 6//5, Float32\n",
      "Orbit  1: length =    135, x₀ =    0.008523345f0, p = 0.014370\n",
      "Orbit  2: length =    329, x₀ =   0.0030605793f0, p = 0.003920\n",
      "Orbit  3: length =    792, x₀ =   0.0016326904f0, p = 0.008100\n",
      "Orbit  4: length =   2867, x₀ =   0.0010089874f0, p = 0.137610\n",
      "Orbit  5: length =  10190, x₀ =     5.1259995f-5, p = 0.836000\n"
     ]
    }
   ],
   "source": [
    "ol2,ox2,op2 = find_orbits(Float32,5//4,n=100000);\n",
    "ol3,ox3,op3 = find_orbits(Float32,4//3,n=100000);\n",
    "ol4,ox4,op4 = find_orbits(Float32,6//5,n=100000);"
   ]
  },
  {
   "cell_type": "code",
   "execution_count": 7,
   "metadata": {},
   "outputs": [
    {
     "name": "stdout",
     "output_type": "stream",
     "text": [
      "β = 5//4, Float32\n",
      "Orbit  1: length =     12, x₀ =     0.07379031f0, p = 0.000018\n",
      "Orbit  2: length =    137, x₀ =   0.0072830915f0, p = 0.004292\n",
      "Orbit  3: length =    219, x₀ =    0.005312443f0, p = 0.000653\n",
      "Orbit  4: length =    228, x₀ =   0.0007648468f0, p = 0.002686\n",
      "Orbit  5: length =   2117, x₀ =  0.00061380863f0, p = 0.018153\n",
      "Orbit  6: length =   3763, x₀ =   0.0009752512f0, p = 0.974198\n",
      "β = 4//3, Float32\n",
      "Orbit  1: length =      1, x₀ =            0.0f0, p = 0.003007\n",
      "Orbit  2: length =      6, x₀ =     0.21651316f0, p = 0.000005\n",
      "Orbit  3: length =     48, x₀ =     0.06936097f0, p = 0.000112\n",
      "Orbit  4: length =     49, x₀ =    0.048506975f0, p = 0.000256\n",
      "Orbit  5: length =    153, x₀ =      0.0189718f0, p = 0.000323\n",
      "Orbit  6: length =    336, x₀ =   0.0012991428f0, p = 0.019551\n",
      "Orbit  7: length =   3304, x₀ =  0.00014281273f0, p = 0.463057\n",
      "Orbit  8: length =   4790, x₀ =   0.0004069805f0, p = 0.513689\n",
      "β = 6//5, Float32\n",
      "Orbit  1: length =     16, x₀ =    0.057180643f0, p = 0.000002\n",
      "Orbit  2: length =    135, x₀ =    0.008523345f0, p = 0.013958\n",
      "Orbit  3: length =    329, x₀ =   0.0030605793f0, p = 0.004068\n",
      "Orbit  4: length =    792, x₀ =   0.0016326904f0, p = 0.007789\n",
      "Orbit  5: length =   2867, x₀ =   0.0010089874f0, p = 0.136367\n",
      "Orbit  6: length =  10190, x₀ =     5.1259995f-5, p = 0.837816\n"
     ]
    }
   ],
   "source": [
    "ol2,ox2,op2 = find_orbits(Float32,Xoroshiro128P,5//4,n=1000000);\n",
    "ol3,ox3,op3 = find_orbits(Float32,Xoroshiro128P,4//3,n=1000000);\n",
    "ol4,ox4,op4 = find_orbits(Float32,Xoroshiro128P,6//5,n=1000000);"
   ]
  },
  {
   "cell_type": "code",
   "execution_count": 30,
   "metadata": {},
   "outputs": [],
   "source": [
    "# bins\n",
    "βs = [3/2,5/4,4/3,6/5]                                                \n",
    "nβs = length(βs)\n",
    "bin_width = 2.5e-2\n",
    "bin_edges = collect(0:bin_width:1)\n",
    "nbins = length(bin_edges)-1\n",
    "\n",
    "# preallocate all histograms\n",
    "norbits = 4   # 1, 1&2, 1&2&3, all\n",
    "Histow = fill(0.0,nβs,norbits,nbins)\n",
    "\n",
    "oxx = [ox1,ox2,ox3,ox4]\n",
    "oll = [ol1,ol2,ol3,ol4]\n",
    "opp = [op1,op2,op3,op4]\n",
    "\n",
    "for (iβ,β) in enumerate(βs)\n",
    "    ox = oxx[iβ]\n",
    "    ol = oll[iβ]\n",
    "    op = opp[iβ]\n",
    "    nol = length(ol)\n",
    "    \n",
    "    Histos = fill(0.0,nol,nbins)\n",
    "    \n",
    "    for io in 1:nol\n",
    "        X = bernoulli_map(ox[io],Float32(β),ol[io]-1)\n",
    "        H = fit(Histogram,X,bin_edges).weights\n",
    "        Histos[io,:] = H / sum(H) / bin_width\n",
    "    end\n",
    "\n",
    "    # weighted means\n",
    "    Histow[iβ,1,:] = Histos[end,:]\n",
    "    Histow[iβ,2,:] = mean(Histos[end-1:end,:],weights(op[end-1:end]),dims=1)\n",
    "    Histow[iβ,3,:] = mean(Histos[end-2:end,:],weights(op[end-2:end]),dims=1)\n",
    "    Histow[iβ,4,:] = mean(Histos,weights(op),dims=1)\n",
    "end"
   ]
  },
  {
   "cell_type": "code",
   "execution_count": 32,
   "metadata": {},
   "outputs": [],
   "source": [
    "# Sample analytical invariant measure at bins\n",
    "hxs = fill(0.0,nβs,nbins)\n",
    "x = collect(0:1e-6:1)\n",
    "\n",
    "for (iβ,β) in enumerate(βs)\n",
    "    H = [sum(h.(x[(x .>= bin_edges[i]) .& (x .< bin_edges[i+1])],β)) for i in 1:nbins]\n",
    "    hxs[iβ,:] = H / sum(H) / bin_width\n",
    "end"
   ]
  },
  {
   "cell_type": "code",
   "execution_count": 36,
   "metadata": {},
   "outputs": [
    {
     "data": {
      "image/png": "[encoded data removed]",
      "text/plain": [
       "Figure(PyObject <Figure size 800x400 with 4 Axes>)"
      ]
     },
     "metadata": {},
     "output_type": "display_data"
    }
   ],
   "source": [
    "# PLOT\n",
    "fig,axs = subplots(2,2,sharex=true,figsize=(8,4))\n",
    "\n",
    "for (iax,ax) in enumerate(axs)\n",
    "    H = Histow[iax,1,:]\n",
    "    ax.plot(bin_edges,vcat(H[1],H),ds=\"steps-pre\",lw=2,label=\"Orbit 1\")\n",
    "    \n",
    "    H = Histow[iax,2,:]\n",
    "    ax.plot(bin_edges,vcat(H[1],H),ds=\"steps-pre\",lw=2,label=\"Orbit 1-2\")\n",
    "    \n",
    "    H = Histow[iax,3,:]\n",
    "    ax.plot(bin_edges,vcat(H[1],H),ds=\"steps-pre\",lw=2,label=\"Orbit 1-3\")\n",
    "    \n",
    "    H = Histow[iax,4,:]\n",
    "    ax.plot(bin_edges,vcat(H[1],H),ds=\"steps-pre\",lw=2,label=\"All orbits\")\n",
    "    \n",
    "    # Add analytical invariant measures from Hofbauer (binned version)\n",
    "#     H = hxs[iax,:]\n",
    "#     ax.plot(bin_edges,vcat(H[1],H),\"k\",ds=\"steps-pre\",lw=2,label=\"analytical\")\n",
    "end\n",
    "\n",
    "# Add analytical invariant measures from Hofbauer\n",
    "x = collect(0:1e-4:1)\n",
    "for (iβ,β) in enumerate(βs)\n",
    "    hx = h.(x,β)\n",
    "    axs[iβ].scatter(x,hx/sum(hx*(x[2]-x[1])),0.1,color=\"k\",zorder=10)\n",
    "    # only for legend (plot outside xlim,ylim)\n",
    "    axs[iβ].plot(-x,hx/sum(hx*(x[2]-x[1])),\"k\",lw=2,label=\"analytical\")\n",
    "end\n",
    "\n",
    "for (iβ,β) in enumerate([\"3/2\",\"5/4\",\"4/3\",\"6/5\"])\n",
    "    axs[iβ].set_title(\"Invariant measure for β=$β\",loc=\"left\")\n",
    "end\n",
    "\n",
    "for (iabc,abc) in enumerate([\"a\",\"c\",\"b\",\"d\"])\n",
    "    axs[iabc].set_title(abc,loc=\"right\",fontweight=\"bold\")\n",
    "end\n",
    "\n",
    "axs[1,2].legend(loc=1,fontsize=8)\n",
    "\n",
    "axs[1,1].set_ylabel(\"h(x)\")\n",
    "axs[2,1].set_ylabel(\"h(x)\")\n",
    "axs[2,1].set_xlabel(\"x\")\n",
    "axs[2,2].set_xlabel(\"X\")\n",
    "axs[1,1].set_xlim(0,1)\n",
    "axs[1,1].set_xticks(bin_edges,minor=true)\n",
    "\n",
    "tight_layout()\n",
    "savefig(\"../plots/inv_measures_orbits.png\")"
   ]
  },
  {
   "cell_type": "markdown",
   "metadata": {},
   "source": [
    "## 2. Comparison to Monte Carlo-based invariant measures"
   ]
  },
  {
   "cell_type": "code",
   "execution_count": 28,
   "metadata": {},
   "outputs": [],
   "source": [
    "# Calculate histograms\n",
    "Nens_size = [10,100,1000,10000]   # start from Nens random initial conditions\n",
    "Nsteps = 20000           # integrate for Nsteps time steps\n",
    "Nspinup = 5000           # discard Nspinsup time steps\n",
    "\n",
    "# each for different β\n",
    "βs = [3/2,5/4,4/3,6/5]                                                \n",
    "Nβs = length(βs)\n",
    "Nenssizes = length(Nens_size)\n",
    "\n",
    "# bins\n",
    "bin_width = 2.5e-2\n",
    "bin_edges = collect(0:bin_width:1)\n",
    "nbins = length(bin_edges)-1\n",
    "\n",
    "# preallocate all histograms\n",
    "Histos = fill(0.0,Nenssizes,Nβs,nbins)\n",
    "\n",
    "for (inens,Nens) in enumerate(Nens_size)\n",
    "    for (iβ,β) in enumerate(βs)\n",
    "        X = fill(0.0,Nens,Nsteps)\n",
    "        for iens in 1:Nens\n",
    "            f = randfloat(Float32)\n",
    "            X[iens,:] = bernoulli_map(f,Float32(β),Nsteps+Nspinup)[Nspinup+2:end]\n",
    "        end\n",
    "        H = fit(Histogram,vec(X),bin_edges).weights\n",
    "        Histos[inens,iβ,:] = H / sum(H) / bin_width\n",
    "    end\n",
    "end "
   ]
  },
  {
   "cell_type": "code",
   "execution_count": 29,
   "metadata": {},
   "outputs": [
    {
     "data": {
      "image/png": "[encoded data removed]",
      "text/plain": [
       "Figure(PyObject <Figure size 800x400 with 4 Axes>)"
      ]
     },
     "metadata": {},
     "output_type": "display_data"
    }
   ],
   "source": [
    "# PLOT\n",
    "fig,axs = subplots(2,2,sharex=true,figsize=(8,4))\n",
    "\n",
    "for (iax,ax) in enumerate(axs)\n",
    "    H = Histos[1,iax,:]\n",
    "    ax.plot(bin_edges,vcat(H[1],H),ds=\"steps-pre\",lw=2,label=\"Float32, N=10\")\n",
    "    \n",
    "    H = Histos[2,iax,:]\n",
    "    ax.plot(bin_edges,vcat(H[1],H),ds=\"steps-pre\",lw=2,label=\"Float32, N=100\")\n",
    "    \n",
    "    H = Histos[3,iax,:]\n",
    "    ax.plot(bin_edges,vcat(H[1],H),ds=\"steps-pre\",lw=2,label=\"Float32, N=1000\")\n",
    "    \n",
    "    H = Histos[4,iax,:]\n",
    "    ax.plot(bin_edges,vcat(H[1],H),ds=\"steps-pre\",lw=2,label=\"Float32, N=10000\")\n",
    "end\n",
    "\n",
    "\n",
    "# Add analytical invariant measures from Hofbauer\n",
    "x = collect(0:1e-4:1)\n",
    "for (iβ,β) in enumerate(βs)\n",
    "    hx = h.(x,β)\n",
    "    axs[iβ].scatter(x,hx/sum(hx*(x[2]-x[1])),0.1,color=\"k\",zorder=10)\n",
    "    # only for legend (plot outside xlim,ylim)\n",
    "    axs[iβ].plot(-x,hx/sum(hx*(x[2]-x[1])),\"k\",lw=2,label=\"analytical\")\n",
    "end\n",
    "\n",
    "for (iβ,β) in enumerate([\"3/2\",\"5/4\",\"4/3\",\"6/5\"])\n",
    "    axs[iβ].set_title(\"Invariant measure for β=$β\",loc=\"left\")\n",
    "end\n",
    "\n",
    "for (iabc,abc) in enumerate([\"a\",\"c\",\"b\",\"d\"])\n",
    "    axs[iabc].set_title(abc,loc=\"right\",fontweight=\"bold\")\n",
    "end\n",
    "\n",
    "axs[1,2].legend(loc=1,fontsize=8)\n",
    "\n",
    "axs[1,1].set_ylabel(\"h(x)\")\n",
    "axs[2,1].set_ylabel(\"h(x)\")\n",
    "axs[2,1].set_xlabel(\"x\")\n",
    "axs[2,2].set_xlabel(\"X\")\n",
    "axs[1,1].set_xlim(0,1)\n",
    "axs[1,1].set_xticks(bin_edges,minor=true)\n",
    "\n",
    "tight_layout()\n",
    "# savefig(\"../plots/inv_measures.png\")"
   ]
  },
  {
   "cell_type": "code",
   "execution_count": null,
   "metadata": {},
   "outputs": [],
   "source": []
  }
 ],
 "metadata": {
  "kernelspec": {
   "display_name": "Julia 1.5.2",
   "language": "julia",
   "name": "julia-1.5"
  },
  "language_info": {
   "file_extension": ".jl",
   "mimetype": "application/julia",
   "name": "julia",
   "version": "1.5.2"
  }
 },
 "nbformat": 4,
 "nbformat_minor": 4
}
