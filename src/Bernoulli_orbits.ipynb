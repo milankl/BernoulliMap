{
 "cells": [
  {
   "cell_type": "markdown",
   "metadata": {},
   "source": [
    "# Generalised Bernoulli map with various number formats\n",
    "\n",
    "Revisiting BM Boghosian, PV Coveney, and H Wang. *A new pathology in the Simulation of Chaotic Dynamical Systems on Digital Computers*, **Adv. Theory Simul.** 2019, 2, 1900125, DOI: 10.1002/adts.201900125"
   ]
  },
  {
   "cell_type": "markdown",
   "metadata": {},
   "source": [
    "### 0. Load packages"
   ]
  },
  {
   "cell_type": "code",
   "execution_count": 38,
   "metadata": {
    "scrolled": true
   },
   "outputs": [
    {
     "name": "stderr",
     "output_type": "stream",
     "text": [
      "┌ Warning: LogFixPoint16 was changed to 5 integer and 10 fraction bits.\n",
      "└ @ LogFixPoint16s /Users/milan/.julia/packages/LogFixPoint16s/TGYbV/src/change_format.jl:25\n"
     ]
    }
   ],
   "source": [
    "using PyPlot, FileIO, JLD2, Printf\n",
    "using StochasticRounding, SoftPosit, LogFixPoint16s\n",
    "using StatsBase, LinearAlgebra, Statistics\n",
    "LogFixPoint16s.set_nfrac(10)   # use the 16-bit logfix format similar to Float16"
   ]
  },
  {
   "cell_type": "markdown",
   "metadata": {},
   "source": [
    "### 1. Functions\n",
    "Define the generalised Bernoulli map\n",
    "\n",
    "$\\quad x_{j+1} = f_\\beta(x_j) = \\beta x_j \\mod 1$\n",
    "\n",
    "with $\\beta > 1$."
   ]
  },
  {
   "cell_type": "code",
   "execution_count": 14,
   "metadata": {},
   "outputs": [
    {
     "data": {
      "text/plain": [
       "bernoulli_orbit (generic function with 2 methods)"
      ]
     },
     "execution_count": 14,
     "metadata": {},
     "output_type": "execute_result"
    }
   ],
   "source": [
    "function bernoulli_orbit( x::T,            # initial condition\n",
    "                          β::T,            # Bernoulli parameter\n",
    "                          N0::Int,         # spin up iterations\n",
    "                          N::Int) where T  # max period length\n",
    "    oone = one(T)                  # 1 in format T\n",
    "    \n",
    "    # SPIN UP\n",
    "    for i in 1:N0\n",
    "        x = β*x\n",
    "        x = x >= oone ? x-oone : x # x mod 1\n",
    "    end\n",
    "    \n",
    "    # CHECK FOR PERIOD LENGTH\n",
    "    x0 = x                         # new initial condition\n",
    "    n = 0                          # orbit length (0 = not found yet)\n",
    "    j = 0                          # iteration counter\n",
    "    \n",
    "    while n == 0 && j < N\n",
    "        j += 1\n",
    "        x = β*x\n",
    "        x = x >= oone ? x-oone : x # x mod 1\n",
    "        n = x0 == x ? j : 0        # check for periodicity\n",
    "    end\n",
    "\n",
    "    return n,x\n",
    "end"
   ]
  },
  {
   "cell_type": "code",
   "execution_count": 3,
   "metadata": {},
   "outputs": [
    {
     "data": {
      "text/plain": [
       "bernoulli_map (generic function with 1 method)"
      ]
     },
     "execution_count": 3,
     "metadata": {},
     "output_type": "execute_result"
    }
   ],
   "source": [
    "function bernoulli_map(x::T,β::T,N::Int) where T\n",
    "    oone = one(T)                  # 1 in format T\n",
    "    xout = Array{T,1}(undef,N+1)   # preallocate\n",
    "    xout[1] = x                    # store initial condition\n",
    "    for i in 2:N+1\n",
    "        x = β*x\n",
    "        while x >= oone            # x mod 1\n",
    "            x = x - oone\n",
    "        end\n",
    "        xout[i] = x                # store iteration\n",
    "    end\n",
    "    return xout\n",
    "end"
   ]
  },
  {
   "cell_type": "code",
   "execution_count": 70,
   "metadata": {},
   "outputs": [
    {
     "data": {
      "text/plain": [
       "find_orbits (generic function with 2 methods)"
      ]
     },
     "execution_count": 70,
     "metadata": {},
     "output_type": "execute_result"
    }
   ],
   "source": [
    "function find_orbits(::Type{T},β::Real;\n",
    "                    n::Int=100000,N0::Int=50000,Nmax::Int=1000000) where T\n",
    "\n",
    "    println(\"β = $β, $T\")\n",
    "    \n",
    "    O = fill(0,n)\n",
    "    X = Array{T}(undef,n)\n",
    "\n",
    "    for i in 1:n\n",
    "        O[i],X[i] = bernoulli_orbit(T(rand()),T(β),50000,1000000)\n",
    "    end\n",
    "\n",
    "    orbit_lengths = sort([o for o in Set(O)])\n",
    "\n",
    "    for (iol,ol) in enumerate(orbit_lengths)\n",
    "\n",
    "        Xini = X[O .== ol]\n",
    "        S = Set{T}()\n",
    "\n",
    "        for x in Xini\n",
    "            xorbit = bernoulli_map(x,T(β),ol)\n",
    "            S = S ∪ Set(minimum(xorbit))\n",
    "        end\n",
    "    \n",
    "        p = length(Xini)/n*100\n",
    "        x0 = [s for s in S][1]\n",
    "        \n",
    "        s1 = \"Orbit $iol ($(length(S))x): length = $(@sprintf(\"%8d\",ol)), \"\n",
    "        s2 = \"x₀ = $(@sprintf(\"%.14f\",x0)), \"\n",
    "        s3 = \"p = $(@sprintf(\"%5.2f\",p))%\"\n",
    "        \n",
    "        println(s1*s2*s3)\n",
    "    end\n",
    "end"
   ]
  },
  {
   "cell_type": "code",
   "execution_count": 74,
   "metadata": {},
   "outputs": [
    {
     "name": "stdout",
     "output_type": "stream",
     "text": [
      "β = 9//8, Float32\n",
      "Orbit 1 (1x): length =       22, x₀ = 0.08099699020386, p =  0.00%\n",
      "Orbit 2 (1x): length =       78, x₀ = 0.00321817398071, p =  0.00%\n",
      "Orbit 3 (1x): length =     1013, x₀ = 0.00107347965240, p =  3.01%\n",
      "Orbit 4 (1x): length =     5258, x₀ = 0.00027680397034, p = 96.99%\n"
     ]
    }
   ],
   "source": [
    "find_orbits(Float32,9//8,n=100000)"
   ]
  },
  {
   "cell_type": "code",
   "execution_count": null,
   "metadata": {},
   "outputs": [],
   "source": []
  }
 ],
 "metadata": {
  "kernelspec": {
   "display_name": "Julia 1.5.2",
   "language": "julia",
   "name": "julia-1.5"
  },
  "language_info": {
   "file_extension": ".jl",
   "mimetype": "application/julia",
   "name": "julia",
   "version": "1.5.2"
  }
 },
 "nbformat": 4,
 "nbformat_minor": 4
}
