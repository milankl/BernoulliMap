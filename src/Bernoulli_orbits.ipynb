{
 "cells": [
  {
   "cell_type": "markdown",
   "metadata": {},
   "source": [
    "# Generalised Bernoulli map with various number formats\n",
    "\n",
    "Revisiting BM Boghosian, PV Coveney, and H Wang. *A new pathology in the Simulation of Chaotic Dynamical Systems on Digital Computers*, **Adv. Theory Simul.** 2019, 2, 1900125, DOI: 10.1002/adts.201900125"
   ]
  },
  {
   "cell_type": "markdown",
   "metadata": {},
   "source": [
    "### 0. Load packages"
   ]
  },
  {
   "cell_type": "code",
   "execution_count": 1,
   "metadata": {
    "scrolled": true
   },
   "outputs": [
    {
     "name": "stderr",
     "output_type": "stream",
     "text": [
      "┌ Warning: LogFixPoint16 was changed to 5 integer and 10 fraction bits.\n",
      "└ @ LogFixPoint16s /Users/milan/.julia/packages/LogFixPoint16s/TGYbV/src/change_format.jl:25\n"
     ]
    }
   ],
   "source": [
    "using PyPlot, FileIO, JLD2, Printf\n",
    "using StochasticRounding, SoftPosit, LogFixPoint16s\n",
    "using StatsBase, LinearAlgebra, Statistics\n",
    "LogFixPoint16s.set_nfrac(10)   # use the 16-bit logfix format similar to Float16"
   ]
  },
  {
   "cell_type": "markdown",
   "metadata": {},
   "source": [
    "### 1. Functions\n",
    "Define the generalised Bernoulli map\n",
    "\n",
    "$\\quad x_{j+1} = f_\\beta(x_j) = \\beta x_j \\mod 1$\n",
    "\n",
    "with $\\beta > 1$."
   ]
  },
  {
   "cell_type": "code",
   "execution_count": 2,
   "metadata": {},
   "outputs": [
    {
     "data": {
      "text/plain": [
       "bernoulli_orbit (generic function with 1 method)"
      ]
     },
     "execution_count": 2,
     "metadata": {},
     "output_type": "execute_result"
    }
   ],
   "source": [
    "function bernoulli_orbit( x::T,            # initial condition\n",
    "                          β::T,            # Bernoulli parameter\n",
    "                          N0::Int,         # spin up iterations\n",
    "                          N::Int) where T  # max period length\n",
    "    oone = one(T)                  # 1 in format T\n",
    "    \n",
    "    # SPIN UP\n",
    "    for i in 1:N0\n",
    "        x = β*x\n",
    "        x = x >= oone ? x-oone : x # x mod 1\n",
    "    end\n",
    "    \n",
    "    # CHECK FOR PERIOD LENGTH\n",
    "    x0 = x                         # new initial condition\n",
    "    n = 0                          # orbit length (0 = not found yet)\n",
    "    j = 0                          # iteration counter\n",
    "    \n",
    "    while n == 0 && j < N\n",
    "        j += 1\n",
    "        x = β*x\n",
    "        x = x >= oone ? x-oone : x # x mod 1\n",
    "        n = x0 == x ? j : 0        # check for periodicity\n",
    "    end\n",
    "\n",
    "    return n,x                     # return orbit length and last x that's on the orbit\n",
    "end"
   ]
  },
  {
   "cell_type": "code",
   "execution_count": 3,
   "metadata": {},
   "outputs": [
    {
     "data": {
      "text/plain": [
       "bernoulli_map (generic function with 1 method)"
      ]
     },
     "execution_count": 3,
     "metadata": {},
     "output_type": "execute_result"
    }
   ],
   "source": [
    "function bernoulli_map(x::T,β::T,N::Int) where T\n",
    "    oone = one(T)                  # 1 in format T\n",
    "    xout = Array{T,1}(undef,N+1)   # preallocate\n",
    "    xout[1] = x                    # store initial condition\n",
    "    for i in 2:N+1\n",
    "        x = β*x\n",
    "        while x >= oone            # x mod 1\n",
    "            x = x - oone\n",
    "        end\n",
    "        xout[i] = x                # store iteration\n",
    "    end\n",
    "    return xout\n",
    "end"
   ]
  },
  {
   "cell_type": "code",
   "execution_count": 4,
   "metadata": {},
   "outputs": [
    {
     "data": {
      "text/plain": [
       "find_orbits (generic function with 1 method)"
      ]
     },
     "execution_count": 4,
     "metadata": {},
     "output_type": "execute_result"
    }
   ],
   "source": [
    "function find_orbits(   ::Type{T},                  # Number format\n",
    "                        β::Real;                    # Bernoulli parameter\n",
    "                        n::Int=100000,              # n initial conditions\n",
    "                        N0::Int=50000,              # spinup\n",
    "                        Nmax::Int=1000000) where T  # maximum orbit length\n",
    "\n",
    "    println(\"β = $β, $T\")\n",
    "    \n",
    "    O = fill(0,n)           # array of orbit period lengths for each IC\n",
    "    X = Array{T}(undef,n)   # for each orbit one x on the orbit\n",
    "\n",
    "    for i in 1:n            # for n ICs calculate orbit lengths & x\n",
    "        O[i],X[i] = bernoulli_orbit(T(rand()),T(β),N0,Nmax)\n",
    "    end\n",
    "\n",
    "    # find unique orbit lengths via Set\n",
    "    orbit_lengths = sort([o for o in Set(O)])\n",
    "\n",
    "    iol = 1\n",
    "    for (iol,ol) in enumerate(orbit_lengths)\n",
    "\n",
    "        # all x for orbit length ol, use as initial condition\n",
    "        Xini = X[O .== ol]     \n",
    "        S = Set{T}()         # preallocate a set to check orbits of their uniqueness\n",
    "\n",
    "        for x in Xini        # per IC calculate all points on that orbit\n",
    "            xorbit = bernoulli_map(x,T(β),ol)\n",
    "            S = S ∪ Set(minimum(xorbit))   # and identify by their min x\n",
    "        end\n",
    "    \n",
    "        p = length(Xini)/n        # size of the basin of attraction\n",
    "        x0s = [s for s in S]      # array of min x to identify unique orbits\n",
    "                                  # if >1 orbit exists with same length length(x0s)>1\n",
    "        \n",
    "        # print orbit informtation\n",
    "        s1 = \"Orbit $(@sprintf(\"%2d\",iol)): length = $(@sprintf(\"%6d\",ol)), \"\n",
    "        s2 = \"x₀ = $(@sprintf(\"%16s\",repr(x0s[1]))), \"\n",
    "        s3 = \"p = $(@sprintf(\"%.6f\",p))\"\n",
    "        println(s1*s2*s3)\n",
    "        iol += 1\n",
    "        \n",
    "        # in case there are several orbits of same period length, print their info\n",
    "        if length(x0s) > 1\n",
    "            for x0 in x0[2:end]\n",
    "                s2 = \"x₀ = $(@sprintf(\"%.14f\",x0)), \"\n",
    "                println(s1*s2)\n",
    "                iol += 1\n",
    "            end\n",
    "        end\n",
    "    end\n",
    "end"
   ]
  },
  {
   "cell_type": "code",
   "execution_count": 6,
   "metadata": {},
   "outputs": [
    {
     "name": "stdout",
     "output_type": "stream",
     "text": [
      "β = 4//3, Float32\n",
      "Orbit  1: length =      1, x₀ =            0.0f0, p = 0.002991\n",
      "Orbit  2: length =      6, x₀ =     0.21651316f0, p = 0.000006\n",
      "Orbit  3: length =     48, x₀ =     0.06936097f0, p = 0.000108\n",
      "Orbit  4: length =     49, x₀ =    0.048506975f0, p = 0.000267\n",
      "Orbit  5: length =    153, x₀ =      0.0189718f0, p = 0.000358\n",
      "Orbit  6: length =    336, x₀ =   0.0012991428f0, p = 0.019723\n",
      "Orbit  7: length =   3304, x₀ =  0.00014281273f0, p = 0.463223\n",
      "Orbit  8: length =   4790, x₀ =   0.0004069805f0, p = 0.513324\n"
     ]
    }
   ],
   "source": [
    "find_orbits(Float32,4//3,n=1000000)"
   ]
  },
  {
   "cell_type": "code",
   "execution_count": 7,
   "metadata": {},
   "outputs": [
    {
     "name": "stdout",
     "output_type": "stream",
     "text": [
      "β = 8//7, Float32\n",
      "Orbit  1: length =     16, x₀ =     0.13387299f0, p = 0.000031\n",
      "Orbit  2: length =     26, x₀ =    0.032056212f0, p = 0.000004\n",
      "Orbit  3: length =     51, x₀ =      0.1009475f0, p = 0.000010\n",
      "Orbit  4: length =     93, x₀ =    0.039530635f0, p = 0.000174\n",
      "Orbit  5: length =    102, x₀ =    0.009067774f0, p = 0.000090\n",
      "Orbit  6: length =    339, x₀ =    0.016980052f0, p = 0.000999\n",
      "Orbit  7: length =   2082, x₀ =   0.0020537376f0, p = 0.038340\n",
      "Orbit  8: length =   2676, x₀ =   0.0014624596f0, p = 0.071857\n",
      "Orbit  9: length =   3837, x₀ =  0.00040769577f0, p = 0.070869\n",
      "Orbit 10: length =  10889, x₀ =  0.00067329407f0, p = 0.817626\n"
     ]
    }
   ],
   "source": [
    "find_orbits(Float32,8//7,n=1000000)"
   ]
  },
  {
   "cell_type": "code",
   "execution_count": 8,
   "metadata": {},
   "outputs": [
    {
     "name": "stdout",
     "output_type": "stream",
     "text": [
      "β = 3//2, Float32\n",
      "Orbit  1: length =      5, x₀ =     0.15165877f0, p = 0.000002\n",
      "Orbit  2: length =     19, x₀ =     0.06243241f0, p = 0.009374\n",
      "Orbit  3: length =     39, x₀ =    0.010771394f0, p = 0.000011\n",
      "Orbit  4: length =     69, x₀ =   0.0052359104f0, p = 0.000376\n",
      "Orbit  5: length =     86, x₀ =    0.037434578f0, p = 0.000730\n",
      "Orbit  6: length =    285, x₀ =    0.008414507f0, p = 0.000743\n",
      "Orbit  7: length =    297, x₀ =     5.2928925f-5, p = 0.008579\n",
      "Orbit  8: length =    313, x₀ =      6.747246f-5, p = 0.006114\n",
      "Orbit  9: length =    445, x₀ =   0.0024217367f0, p = 0.001186\n",
      "Orbit 10: length =    494, x₀ =   0.0057212114f0, p = 0.046928\n",
      "Orbit 11: length =    517, x₀ =   0.0037292242f0, p = 0.045287\n",
      "Orbit 12: length =    982, x₀ =    0.002391696f0, p = 0.061751\n",
      "Orbit 13: length =   5228, x₀ =     4.1007996f-5, p = 0.818919\n"
     ]
    }
   ],
   "source": [
    "find_orbits(Float32,3//2,n=1000000)"
   ]
  },
  {
   "cell_type": "code",
   "execution_count": 9,
   "metadata": {},
   "outputs": [
    {
     "name": "stdout",
     "output_type": "stream",
     "text": [
      "β = 9//8, Float32\n",
      "Orbit  1: length =      1, x₀ =            0.0f0, p = 0.000001\n",
      "Orbit  2: length =     21, x₀ =     0.09205365f0, p = 0.000002\n",
      "Orbit  3: length =     22, x₀ =     0.08099699f0, p = 0.000025\n",
      "Orbit  4: length =     78, x₀ =    0.003218174f0, p = 0.000011\n",
      "Orbit  5: length =   1013, x₀ =   0.0010734797f0, p = 0.030015\n",
      "Orbit  6: length =   5258, x₀ =  0.00027680397f0, p = 0.969946\n"
     ]
    }
   ],
   "source": [
    "find_orbits(Float32,9//8,n=1000000)"
   ]
  },
  {
   "cell_type": "code",
   "execution_count": 5,
   "metadata": {},
   "outputs": [
    {
     "name": "stdout",
     "output_type": "stream",
     "text": [
      "β = 7//6, Float32\n",
      "Orbit  1: length =      1, x₀ =            0.0f0, p = 0.000001\n",
      "Orbit  2: length =     13, x₀ =     0.15580297f0, p = 0.000007\n",
      "Orbit  3: length =     87, x₀ =    0.027895927f0, p = 0.000033\n",
      "Orbit  4: length =   1486, x₀ =   0.0011222363f0, p = 0.003857\n",
      "Orbit  5: length =   3185, x₀ =   0.0018539429f0, p = 0.041454\n",
      "Orbit  6: length =  21489, x₀ =  0.00025331974f0, p = 0.954648\n"
     ]
    }
   ],
   "source": [
    "find_orbits(Float32,7//6,n=1000000)"
   ]
  },
  {
   "cell_type": "code",
   "execution_count": 10,
   "metadata": {},
   "outputs": [
    {
     "name": "stdout",
     "output_type": "stream",
     "text": [
      "β = 5//4, Float32\n",
      "Orbit  1: length =     12, x₀ =     0.07379031f0, p = 0.000013\n",
      "Orbit  2: length =    137, x₀ =   0.0072830915f0, p = 0.004364\n",
      "Orbit  3: length =    219, x₀ =    0.005312443f0, p = 0.000601\n",
      "Orbit  4: length =    228, x₀ =   0.0007648468f0, p = 0.002745\n",
      "Orbit  5: length =   2117, x₀ =  0.00061380863f0, p = 0.017799\n",
      "Orbit  6: length =   3763, x₀ =   0.0009752512f0, p = 0.974478\n"
     ]
    }
   ],
   "source": [
    "find_orbits(Float32,5//4,n=1000000)"
   ]
  },
  {
   "cell_type": "code",
   "execution_count": 11,
   "metadata": {},
   "outputs": [
    {
     "name": "stdout",
     "output_type": "stream",
     "text": [
      "β = 6//5, Float32\n",
      "Orbit  1: length =      1, x₀ =            0.0f0, p = 0.000001\n",
      "Orbit  2: length =     16, x₀ =    0.057180643f0, p = 0.000001\n",
      "Orbit  3: length =    135, x₀ =    0.008523345f0, p = 0.014066\n",
      "Orbit  4: length =    329, x₀ =   0.0030605793f0, p = 0.004028\n",
      "Orbit  5: length =    792, x₀ =   0.0016326904f0, p = 0.007740\n",
      "Orbit  6: length =   2867, x₀ =   0.0010089874f0, p = 0.136498\n",
      "Orbit  7: length =  10190, x₀ =     5.1259995f-5, p = 0.837666\n"
     ]
    }
   ],
   "source": [
    "find_orbits(Float32,6//5,n=1000000)"
   ]
  },
  {
   "cell_type": "code",
   "execution_count": null,
   "metadata": {},
   "outputs": [],
   "source": []
  }
 ],
 "metadata": {
  "kernelspec": {
   "display_name": "Julia 1.5.2",
   "language": "julia",
   "name": "julia-1.5"
  },
  "language_info": {
   "file_extension": ".jl",
   "mimetype": "application/julia",
   "name": "julia",
   "version": "1.5.2"
  }
 },
 "nbformat": 4,
 "nbformat_minor": 4
}
