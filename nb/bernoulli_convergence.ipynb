{
 "cells": [
  {
   "cell_type": "markdown",
   "metadata": {},
   "source": [
    "# Convergence of Monte Carlo sampling for invariant measure"
   ]
  },
  {
   "cell_type": "markdown",
   "metadata": {},
   "source": [
    "### 0. Load packages"
   ]
  },
  {
   "cell_type": "code",
   "execution_count": 12,
   "metadata": {
    "scrolled": true
   },
   "outputs": [],
   "source": [
    "using PyPlot, FileIO, JLD2, Printf\n",
    "using StatsBase, LinearAlgebra, Statistics\n",
    "using BernoulliMap, Distributions, OptimalTransport\n",
    "using RandomNumbers"
   ]
  },
  {
   "cell_type": "code",
   "execution_count": 113,
   "metadata": {},
   "outputs": [
    {
     "data": {
      "text/plain": [
       "40"
      ]
     },
     "execution_count": 113,
     "metadata": {},
     "output_type": "execute_result"
    }
   ],
   "source": [
    "# bins\n",
    "βs = [3/2,5/4,4/3,6/5]                                                \n",
    "nβs = length(βs)\n",
    "bin_width = 2.5e-2\n",
    "bin_edges = collect(0:bin_width:1)\n",
    "bin_mids = bin_edges[1:end-1] + diff(bin_edges)/2\n",
    "nbins = length(bin_edges)-1"
   ]
  },
  {
   "cell_type": "code",
   "execution_count": 114,
   "metadata": {},
   "outputs": [],
   "source": [
    "# Sample analytical invariant measure at bins\n",
    "hxs = fill(0.0,nβs,nbins)\n",
    "x = collect(0:1e-6:1)\n",
    "\n",
    "for (iβ,β) in enumerate(βs)\n",
    "    H = [sum(hofbauer.(x[(x .>= bin_edges[i]) .& (x .< bin_edges[i+1])],β)) for i in 1:nbins]\n",
    "    hxs[iβ,:] = H / sum(H) / bin_width\n",
    "end"
   ]
  },
  {
   "cell_type": "markdown",
   "metadata": {},
   "source": [
    "## 2. Comparison to Monte Carlo-based invariant measures"
   ]
  },
  {
   "cell_type": "code",
   "execution_count": 76,
   "metadata": {},
   "outputs": [
    {
     "name": "stdout",
     "output_type": "stream",
     "text": [
      "1: N=1,N=2,N=3,N=4,N=5,N=6,N=7,N=8,N=9,N=10,N=11,N=12,N=13,N=14,N=15,N=16,N=17,N=18,N=19,N=20,N=21,2: N=1,N=2,N=3,N=4,N=5,N=6,N=7,N=8,N=9,N=10,N=11,N=12,N=13,N=14,N=15,N=16,N=17,N=18,N=19,N=20,N=21,3: N=1,N=2,N=3,N=4,N=5,N=6,N=7,N=8,N=9,N=10,N=11,N=12,N=13,N=14,N=15,N=16,N=17,N=18,N=19,N=20,N=21,4: N=1,N=2,N=3,N=4,N=5,N=6,N=7,N=8,N=9,N=10,N=11,N=12,N=13,N=14,N=15,N=16,N=17,N=18,N=19,N=20,N=21,5: N=1,N=2,N=3,N=4,N=5,N=6,N=7,N=8,N=9,N=10,N=11,N=12,N=13,N=14,N=15,N=16,N=17,N=18,N=19,N=20,N=21,"
     ]
    }
   ],
   "source": [
    "# Calculate histograms\n",
    "Nm = 5                                   # repeat times for uncertainty\n",
    "Nens_size = round.(Int,1e1.^(0:0.2:4))   # start from Nens random initial conditions\n",
    "Nsteps = 10000                           # integrate for Nsteps time steps\n",
    "Nspinup = 5000                           # discard Nspinsup time steps\n",
    "\n",
    "# each for different β\n",
    "βs = [3/2,5/4,4/3,6/5]                                                \n",
    "Nβs = length(βs)\n",
    "Nenssizes = length(Nens_size)\n",
    "\n",
    "# preallocate all histograms\n",
    "Histos = fill(0.0,Nm,Nenssizes,Nβs,nbins)\n",
    "\n",
    "for im in 1:Nm\n",
    "    print(\"$im: \")\n",
    "    for (inens,Nens) in enumerate(Nens_size)\n",
    "        print(\"N=$inens,\")\n",
    "        for (iβ,β) in enumerate(βs)\n",
    "            X = fill(0.0,Nens,Nsteps)\n",
    "            for iens in 1:Nens\n",
    "                f = randfloat(Float32)\n",
    "                X[iens,:] = bernoulli_map(f,Float32(β),Nsteps+Nspinup)[Nspinup+2:end]\n",
    "            end\n",
    "            H = fit(Histogram,vec(X),bin_edges).weights\n",
    "            Histos[im,inens,iβ,:] = H / sum(H) / bin_width\n",
    "        end\n",
    "    end\n",
    "end"
   ]
  },
  {
   "cell_type": "markdown",
   "metadata": {},
   "source": [
    "# Wasserstein distances as a function of number of ensemble members"
   ]
  },
  {
   "cell_type": "code",
   "execution_count": 115,
   "metadata": {},
   "outputs": [
    {
     "ename": "LoadError",
     "evalue": "ArgumentError: DiscreteNonParametric: the condition length(vs) == length(ps) is not satisfied.",
     "output_type": "error",
     "traceback": [
      "ArgumentError: DiscreteNonParametric: the condition length(vs) == length(ps) is not satisfied.",
      "",
      "Stacktrace:",
      " [1] macro expansion",
      "   @ ~/.julia/packages/Distributions/Kr8zZ/src/utils.jl:6 [inlined]",
      " [2] DiscreteNonParametric{Float64, Float64, Vector{Float64}, Vector{Float64}}(vs::Vector{Float64}, ps::Vector{Float64}; check_args::Bool)",
      "   @ Distributions ~/.julia/packages/Distributions/Kr8zZ/src/univariate/discrete/discretenonparametric.jl:27",
      " [3] #DiscreteNonParametric#47",
      "   @ ~/.julia/packages/Distributions/Kr8zZ/src/univariate/discrete/discretenonparametric.jl:36 [inlined]",
      " [4] DiscreteNonParametric(vs::Vector{Float64}, ps::Vector{Float64})",
      "   @ Distributions ~/.julia/packages/Distributions/Kr8zZ/src/univariate/discrete/discretenonparametric.jl:36",
      " [5] top-level scope",
      "   @ ./In[115]:10",
      " [6] eval",
      "   @ ./boot.jl:360 [inlined]",
      " [7] include_string(mapexpr::typeof(REPL.softscope), mod::Module, code::String, filename::String)",
      "   @ Base ./loading.jl:1094"
     ]
    }
   ],
   "source": [
    "W = fill(0.0,Nm,Nenssizes,Nβs)\n",
    "\n",
    "for (iβ,β) in enumerate(βs)\n",
    "    \n",
    "    # analytical invariant measure\n",
    "    ν = DiscreteNonParametric(bin_mids,hxs[iβ,:]/nbins)\n",
    "    \n",
    "    for im in 1:Nm\n",
    "        for (inens,Nens) in enumerate(Nens_size)\n",
    "            μ = DiscreteNonParametric(bin_mids,Histos[im,inens,iβ,:]/nbins)\n",
    "\n",
    "            W[im,inens,iβ] = wasserstein(ν,μ)\n",
    "        end\n",
    "    end\n",
    "end"
   ]
  },
  {
   "cell_type": "code",
   "execution_count": 78,
   "metadata": {},
   "outputs": [],
   "source": [
    "Wmean = mean(W,dims=1)[1,:,:]\n",
    "Wmin = minimum(W,dims=1)[1,:,:]\n",
    "Wmax = maximum(W,dims=1)[1,:,:];"
   ]
  },
  {
   "cell_type": "markdown",
   "metadata": {},
   "source": [
    "# Exact invariant measures from sampling from all initial conditions"
   ]
  },
  {
   "cell_type": "code",
   "execution_count": 102,
   "metadata": {
    "scrolled": true
   },
   "outputs": [
    {
     "data": {
      "text/plain": [
       "9-element Vector{Orbit{Float32}}:\n",
       " Orbit{Float32,β=1.2f0}(length=     1, min=           0.0f0, basin=  5.513429641723633e-7)\n",
       " Orbit{Float32,β=1.2f0}(length=     1, min=         1.0f-45, basin= 1.401298464324817e-45)\n",
       " Orbit{Float32,β=1.2f0}(length=     1, min=         3.0f-45, basin= 1.401298464324817e-45)\n",
       " Orbit{Float32,β=1.2f0}(length=    16, min=   0.057180643f0, basin= 1.3462480772294033e-6)\n",
       " Orbit{Float32,β=1.2f0}(length=   135, min=   0.008523345f0, basin=    0.0141749985298142)\n",
       " Orbit{Float32,β=1.2f0}(length=   329, min=  0.0030605793f0, basin=  0.004048023040238647)\n",
       " Orbit{Float32,β=1.2f0}(length=   792, min=  0.0016326904f0, basin=  0.007872094328647666)\n",
       " Orbit{Float32,β=1.2f0}(length=  2867, min=  0.0010089874f0, basin=   0.13644943310914648)\n",
       " Orbit{Float32,β=1.2f0}(length= 10190, min=    5.1259995f-5, basin=    0.8374535534011116)"
      ]
     },
     "execution_count": 102,
     "metadata": {},
     "output_type": "execute_result"
    }
   ],
   "source": [
    "# Load\n",
    "orbits1 = load(\"../data/orbits_Float32_1.5f0.jld2\",\"orbits\")          # beta=3/2\n",
    "orbits2 = load(\"../data/orbits_Float32_1.25f0.jld2\",\"orbits\")         # beta=5/4\n",
    "orbits3 = load(\"../data/orbits_Float32_1.3333334f0.jld2\",\"orbits\")    # beta=4/3\n",
    "orbits4 = load(\"../data/orbits_Float32_1.2f0.jld2\",\"orbits\")          # beta=6/5"
   ]
  },
  {
   "cell_type": "code",
   "execution_count": 116,
   "metadata": {},
   "outputs": [],
   "source": [
    "# CONVERT ORBITS TO HISTOGRAMS\n",
    "Histow = fill(0.0,Nβs,nbins)\n",
    "\n",
    "for (io,orbits) in enumerate([orbits1,orbits2,orbits3,orbits4])\n",
    "    \n",
    "    norbits = length(orbits)\n",
    "    Histows = fill(0.0,norbits,nbins)\n",
    "    \n",
    "    for (ioo,orbit) in enumerate(orbits)\n",
    "        X = bernoulli_map(orbit.min,orbit.β,orbit.length-1)\n",
    "        H = fit(Histogram,X,bin_edges).weights\n",
    "        Histows[ioo,:] = H / sum(H) / bin_width\n",
    "    end\n",
    "\n",
    "    # weighted means\n",
    "    basins = [orbit.b for orbit in orbits]\n",
    "    Histow[io,:] = mean(Histows,aweights(basins),dims=1)\n",
    "end"
   ]
  },
  {
   "cell_type": "code",
   "execution_count": 117,
   "metadata": {},
   "outputs": [],
   "source": [
    "# Wasserstein distances\n",
    "Wana = fill(0.0,Nβs)\n",
    "\n",
    "for (iβ,β) in enumerate(βs)\n",
    "    \n",
    "    # analytical invariant measure\n",
    "    ν = DiscreteNonParametric(bin_mids,hxs[iβ,:]/nbins)\n",
    "    μ = DiscreteNonParametric(bin_mids,Histow[iβ,:]/nbins)\n",
    "    Wana[iβ] = wasserstein(ν,μ)\n",
    "end"
   ]
  },
  {
   "cell_type": "code",
   "execution_count": 1,
   "metadata": {},
   "outputs": [
    {
     "ename": "LoadError",
     "evalue": "UndefVarError: subplots not defined",
     "output_type": "error",
     "traceback": [
      "UndefVarError: subplots not defined",
      "",
      "Stacktrace:",
      " [1] top-level scope",
      "   @ In[1]:2",
      " [2] eval",
      "   @ ./boot.jl:360 [inlined]",
      " [3] include_string(mapexpr::typeof(REPL.softscope), mod::Module, code::String, filename::String)",
      "   @ Base ./loading.jl:1094"
     ]
    }
   ],
   "source": [
    "# PLOT\n",
    "fig,axs = subplots(2,2,sharex=true,sharey=true,figsize=(8,4))\n",
    "\n",
    "for (iax,ax) in enumerate(axs)\n",
    "    ax.set_xscale(\"log\")\n",
    "    ax.plot(Nens_size,Wmean[:,iax],\"teal\",lw=2,label=\"Mean\")\n",
    "    ax.fill_between(Nens_size,Wmin[:,iax],Wmax[:,iax],color=\"teal\",alpha=0.3,label=\"Min-max range\")\n",
    "    ax.axhline(Wana[iax],color=\"k\",lw=1,ls=\"--\",label=\"Exact\")\n",
    "end\n",
    "\n",
    "for (iβ,β) in enumerate([\"3/2\",\"5/4\",\"4/3\",\"6/5\"])\n",
    "    axs[iβ].set_title(\"Monte Carlo convergence, β=$β\",loc=\"left\")\n",
    "end\n",
    "\n",
    "for (iabc,abc) in enumerate([\"a\",\"c\",\"b\",\"d\"])\n",
    "    axs[iabc].set_title(abc,loc=\"right\",fontweight=\"bold\")\n",
    "end\n",
    "\n",
    "axs[1,2].legend()\n",
    "\n",
    "axs[1,1].set_ylabel(\"Wasserstein distance\")\n",
    "axs[2,1].set_ylabel(\"Wasserstein distance\")\n",
    "axs[2,1].set_xlabel(\"N\")\n",
    "axs[2,2].set_xlabel(\"N\")\n",
    "axs[1,1].set_xlim(1,maximum(Nens_size))\n",
    "axs[1,1].set_ylim(-0.0005,0.02)\n",
    "\n",
    "tight_layout()\n",
    "# savefig(\"../plots/convergence.png\")"
   ]
  },
  {
   "cell_type": "code",
   "execution_count": null,
   "metadata": {},
   "outputs": [],
   "source": []
  }
 ],
 "metadata": {
  "kernelspec": {
   "display_name": "Julia 1.6.0",
   "language": "julia",
   "name": "julia-1.6"
  },
  "language_info": {
   "file_extension": ".jl",
   "mimetype": "application/julia",
   "name": "julia",
   "version": "1.6.1"
  }
 },
 "nbformat": 4,
 "nbformat_minor": 4
}
